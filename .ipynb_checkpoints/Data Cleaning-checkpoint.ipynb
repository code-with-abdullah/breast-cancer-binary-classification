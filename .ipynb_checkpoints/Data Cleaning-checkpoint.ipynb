{
 "cells": [
  {
   "cell_type": "markdown",
   "metadata": {},
   "source": [
    "# Importing libraries"
   ]
  },
  {
   "cell_type": "code",
   "execution_count": 1,
   "metadata": {},
   "outputs": [],
   "source": [
    "import os\n",
    "import time\n",
    "import shutil\n",
    "import random"
   ]
  },
  {
   "cell_type": "code",
   "execution_count": 2,
   "metadata": {},
   "outputs": [
    {
     "name": "stdout",
     "output_type": "stream",
     "text": [
      "Total number of folders containing images are 281\n"
     ]
    }
   ],
   "source": [
    "total_folders = len(os.listdir(\"Fayyaz\"))\n",
    "print(\"Total number of folders containing images are\", total_folders)"
   ]
  },
  {
   "cell_type": "markdown",
   "metadata": {},
   "source": [
    "## Copying data from nested directories into a single directory"
   ]
  },
  {
   "cell_type": "code",
   "execution_count": 3,
   "metadata": {},
   "outputs": [],
   "source": [
    "main_folder = os.path.join(os.getcwd(), \"Fayyaz\")\n",
    "new_folder_path = os.path.join(os.getcwd(), \"Preprocessed\")"
   ]
  },
  {
   "cell_type": "code",
   "execution_count": null,
   "metadata": {},
   "outputs": [],
   "source": [
    "start_time = time.time()\n",
    "\n",
    "for number_based_folder in os.listdir(main_folder):\n",
    "    \n",
    "    path_of_sub_folder = os.path.join(main_folder, number_based_folder)\n",
    "    for sub_folder in os.listdir(path_of_sub_folder):\n",
    "        \n",
    "        path_of_images_folder = os.path.join(path_of_sub_folder, sub_folder)\n",
    "        for image in os.listdir(path_of_images_folder):\n",
    "            \n",
    "            shutil.copy(os.path.join(path_of_images_folder, image), new_folder_path)\n",
    "            \n",
    "end_time = time.time()\n",
    "\n",
    "print(round(end_time - start_time, 2))"
   ]
  },
  {
   "cell_type": "code",
   "execution_count": 4,
   "metadata": {},
   "outputs": [
    {
     "name": "stdout",
     "output_type": "stream",
     "text": [
      "Total number of images are 277523\n"
     ]
    }
   ],
   "source": [
    "total_images = len(os.listdir(new_folder_path))\n",
    "print(\"Total number of images are\", total_images)"
   ]
  },
  {
   "cell_type": "markdown",
   "metadata": {},
   "source": [
    "## Finding the number of negative and positive training samples"
   ]
  },
  {
   "cell_type": "code",
   "execution_count": 5,
   "metadata": {},
   "outputs": [],
   "source": [
    "negative_images = []\n",
    "positive_images = []\n",
    "for image in os.listdir(new_folder_path):\n",
    "    if(image[-5:] == (\"0.png\")):\n",
    "        negative_images.append(image)\n",
    "    else:\n",
    "        positive_images.append(image)\n",
    "negative_samples = len(negative_images)\n",
    "positive_samples = len(positive_images)"
   ]
  },
  {
   "cell_type": "markdown",
   "metadata": {},
   "source": [
    "### Shuffling data for randomization"
   ]
  },
  {
   "cell_type": "markdown",
   "metadata": {},
   "source": [
    "####  Before shuffling"
   ]
  },
  {
   "cell_type": "code",
   "execution_count": 6,
   "metadata": {},
   "outputs": [
    {
     "name": "stdout",
     "output_type": "stream",
     "text": [
      "['10253_idx5_x501_y351_class1.png', '10253_idx5_x501_y401_class1.png', '10253_idx5_x551_y301_class1.png', '10253_idx5_x551_y351_class1.png', '10253_idx5_x551_y401_class1.png', '10253_idx5_x551_y451_class1.png', '10253_idx5_x551_y651_class1.png', '10253_idx5_x551_y701_class1.png', '10253_idx5_x601_y251_class1.png', '10253_idx5_x601_y301_class1.png']\n",
      "\n",
      "['10253_idx5_x1001_y1001_class0.png', '10253_idx5_x1001_y1051_class0.png', '10253_idx5_x1001_y1101_class0.png', '10253_idx5_x1001_y1151_class0.png', '10253_idx5_x1001_y1201_class0.png', '10253_idx5_x1001_y1251_class0.png', '10253_idx5_x1001_y1301_class0.png', '10253_idx5_x1001_y1351_class0.png', '10253_idx5_x1001_y1501_class0.png', '10253_idx5_x1001_y1551_class0.png']\n"
     ]
    }
   ],
   "source": [
    "print(positive_images[:10])\n",
    "print(\"\")\n",
    "print(negative_images[:10])"
   ]
  },
  {
   "cell_type": "markdown",
   "metadata": {},
   "source": [
    "####  Shuffling"
   ]
  },
  {
   "cell_type": "code",
   "execution_count": 7,
   "metadata": {},
   "outputs": [],
   "source": [
    "random.shuffle(positive_images) # random.shuffle function randomizes a list \n",
    "random.shuffle(negative_images)"
   ]
  },
  {
   "cell_type": "markdown",
   "metadata": {},
   "source": [
    "####  After shuffling"
   ]
  },
  {
   "cell_type": "code",
   "execution_count": 8,
   "metadata": {},
   "outputs": [
    {
     "name": "stdout",
     "output_type": "stream",
     "text": [
      "['10308_idx5_x1051_y1751_class1.png', '14154_idx5_x2001_y1501_class1.png', '14304_idx5_x1351_y1001_class1.png', '13462_idx5_x1151_y2151_class1.png', '14154_idx5_x2251_y651_class1.png', '14154_idx5_x1501_y601_class1.png', '10308_idx5_x1201_y751_class1.png', '14211_idx5_x1201_y501_class1.png', '10299_idx5_x1851_y1051_class1.png', '12880_idx5_x751_y1651_class1.png']\n",
      "\n",
      "['9383_idx5_x1951_y1451_class0.png', '9257_idx5_x801_y1401_class0.png', '12869_idx5_x1901_y1601_class0.png', '9257_idx5_x851_y1051_class0.png', '9043_idx5_x201_y751_class0.png', '14305_idx5_x1251_y1001_class0.png', '13460_idx5_x451_y1051_class0.png', '12869_idx5_x1351_y2551_class0.png', '14192_idx5_x2501_y1301_class0.png', '15840_idx5_x901_y751_class0.png']\n"
     ]
    }
   ],
   "source": [
    "print(positive_images[:10])\n",
    "print(\"\")\n",
    "print(negative_images[:10])"
   ]
  },
  {
   "cell_type": "code",
   "execution_count": 9,
   "metadata": {},
   "outputs": [
    {
     "name": "stdout",
     "output_type": "stream",
     "text": [
      "Total number of negative samples are 198737\n"
     ]
    }
   ],
   "source": [
    "print(\"Total number of negative samples are\", negative_samples)"
   ]
  },
  {
   "cell_type": "code",
   "execution_count": 10,
   "metadata": {},
   "outputs": [
    {
     "name": "stdout",
     "output_type": "stream",
     "text": [
      "Total number of positive samples are 78786\n"
     ]
    }
   ],
   "source": [
    "print(\"Total number of positive samples are\", positive_samples)"
   ]
  },
  {
   "cell_type": "markdown",
   "metadata": {},
   "source": [
    "## Getting the percentage of negative and positive training samples"
   ]
  },
  {
   "cell_type": "code",
   "execution_count": 6,
   "metadata": {},
   "outputs": [],
   "source": [
    "def get_percentage(sample, total):\n",
    "    \"\"\"\n",
    "    This function will compute and return the percentage of a sample from the total amount\n",
    "    Input Param 1 : Sample Selected\n",
    "    Input Param 2 : Total Size  \n",
    "    Output : Percentage of selected sample upto 2 dp\n",
    "    \"\"\"\n",
    "    return round(sample / total * 100, 2)"
   ]
  },
  {
   "cell_type": "code",
   "execution_count": 7,
   "metadata": {},
   "outputs": [
    {
     "name": "stdout",
     "output_type": "stream",
     "text": [
      "Percentage of negative samples is :  71.61\n",
      "Percentage of positive samples is :  28.39\n"
     ]
    }
   ],
   "source": [
    "percentage_of_negative_samples = get_percentage(negative_samples, total_images)\n",
    "percentage_of_positive_samples = get_percentage(positive_samples, total_images)\n",
    "\n",
    "print(\"Percentage of negative samples is : \", percentage_of_negative_samples)\n",
    "print(\"Percentage of positive samples is : \", percentage_of_positive_samples)"
   ]
  },
  {
   "cell_type": "markdown",
   "metadata": {},
   "source": [
    "## Creating train, validation and test split on 85, 3, 12 ratios respectively"
   ]
  },
  {
   "cell_type": "code",
   "execution_count": 8,
   "metadata": {},
   "outputs": [],
   "source": [
    "starting_85_percent = int(len(positive_images)/10*8.5)\n",
    "eithyeighth_percentile = starting_85_percent + int(len(positive_images)/100*1)\n",
    "\n",
    "training_positive_images = positive_images[0:starting_85_percent]\n",
    "validation_positive_images = positive_images[starting_85_percent: eithyeighth_percentile]\n",
    "test_positive_images = positive_images[eithyeighth_percentile:]"
   ]
  },
  {
   "cell_type": "code",
   "execution_count": 9,
   "metadata": {},
   "outputs": [
    {
     "data": {
      "text/plain": [
       "66968"
      ]
     },
     "execution_count": 9,
     "metadata": {},
     "output_type": "execute_result"
    }
   ],
   "source": [
    "len(training_positive_images)"
   ]
  },
  {
   "cell_type": "code",
   "execution_count": 10,
   "metadata": {},
   "outputs": [
    {
     "data": {
      "text/plain": [
       "787"
      ]
     },
     "execution_count": 10,
     "metadata": {},
     "output_type": "execute_result"
    }
   ],
   "source": [
    "len(validation_positive_images)"
   ]
  },
  {
   "cell_type": "code",
   "execution_count": 11,
   "metadata": {},
   "outputs": [
    {
     "data": {
      "text/plain": [
       "11031"
      ]
     },
     "execution_count": 11,
     "metadata": {},
     "output_type": "execute_result"
    }
   ],
   "source": [
    "len(test_positive_images)"
   ]
  },
  {
   "cell_type": "code",
   "execution_count": 12,
   "metadata": {},
   "outputs": [
    {
     "data": {
      "text/plain": [
       "78786"
      ]
     },
     "execution_count": 12,
     "metadata": {},
     "output_type": "execute_result"
    }
   ],
   "source": [
    "len(training_positive_images)+len(validation_positive_images)+len(test_positive_images)"
   ]
  },
  {
   "cell_type": "code",
   "execution_count": 13,
   "metadata": {},
   "outputs": [],
   "source": [
    "starting_85_percent = int(len(negative_images)/10*8.5)\n",
    "eithyeighth_percentile = starting_85_percent + int(len(negative_images)/100*1)\n",
    "\n",
    "training_negative_images = negative_images[0:starting_85_percent]\n",
    "validation_negative_images = negative_images[starting_85_percent: eithyeighth_percentile]\n",
    "test_negative_images = negative_images[eithyeighth_percentile:]"
   ]
  },
  {
   "cell_type": "code",
   "execution_count": 14,
   "metadata": {},
   "outputs": [
    {
     "data": {
      "text/plain": [
       "168926"
      ]
     },
     "execution_count": 14,
     "metadata": {},
     "output_type": "execute_result"
    }
   ],
   "source": [
    "len(training_negative_images)"
   ]
  },
  {
   "cell_type": "code",
   "execution_count": 15,
   "metadata": {},
   "outputs": [
    {
     "data": {
      "text/plain": [
       "1987"
      ]
     },
     "execution_count": 15,
     "metadata": {},
     "output_type": "execute_result"
    }
   ],
   "source": [
    "len(validation_negative_images)"
   ]
  },
  {
   "cell_type": "code",
   "execution_count": 16,
   "metadata": {},
   "outputs": [
    {
     "data": {
      "text/plain": [
       "27824"
      ]
     },
     "execution_count": 16,
     "metadata": {},
     "output_type": "execute_result"
    }
   ],
   "source": [
    "len(test_negative_images)"
   ]
  },
  {
   "cell_type": "code",
   "execution_count": 17,
   "metadata": {},
   "outputs": [
    {
     "data": {
      "text/plain": [
       "198737"
      ]
     },
     "execution_count": 17,
     "metadata": {},
     "output_type": "execute_result"
    }
   ],
   "source": [
    "len(training_negative_images)+len(validation_negative_images)+len(test_negative_images)"
   ]
  },
  {
   "cell_type": "markdown",
   "metadata": {},
   "source": [
    "## Copying the data to train validation and test folders"
   ]
  },
  {
   "cell_type": "code",
   "execution_count": 18,
   "metadata": {},
   "outputs": [],
   "source": [
    "base_dir = os.getcwd()\n",
    "\n",
    "original_folder_path = os.path.join(base_dir, \"Preprocessed\")\n",
    "\n",
    "train_dir = os.path.join(base_dir, \"Data\", 'train')\n",
    "validation_dir = os.path.join(base_dir, \"Data\", 'validation')\n",
    "test_dir = os.path.join(base_dir, \"Data\", 'test')\n",
    "\n",
    "negative_train_dir = os.path.join(base_dir, \"Data\", 'train', '0')\n",
    "negative_validation_dir = os.path.join(base_dir, \"Data\", 'validation', '0')\n",
    "negative_test_dir = os.path.join(base_dir, \"Data\", 'test', '0')\n",
    "\n",
    "positive_train_dir = os.path.join(base_dir, \"Data\", 'train', '1')\n",
    "positive_validation_dir = os.path.join(base_dir, \"Data\", 'validation', '1')\n",
    "positive_test_dir = os.path.join(base_dir, \"Data\", 'test', '1')"
   ]
  },
  {
   "cell_type": "code",
   "execution_count": 19,
   "metadata": {},
   "outputs": [
    {
     "name": "stdout",
     "output_type": "stream",
     "text": [
      "Starting to copy positive training images\n",
      "Positive training images copied\n",
      "Starting to copy positive validation images\n",
      "Positive validation images copied\n",
      "Starting to copy positive test images\n",
      "Positive test images copied\n",
      "Time taken to execute this code block  280.47\n"
     ]
    }
   ],
   "source": [
    "start = time.time()\n",
    "\n",
    "print(\"Starting to copy positive training images\")\n",
    "for image in training_positive_images:\n",
    "    src = os.path.join(original_folder_path, image)\n",
    "    shutil.copy(src, positive_train_dir)\n",
    "print(\"Positive training images copied\")\n",
    "\n",
    "print(\"Starting to copy positive validation images\")\n",
    "for image in validation_positive_images:\n",
    "    src = os.path.join(original_folder_path, image)\n",
    "    shutil.copy(src, positive_validation_dir)\n",
    "print(\"Positive validation images copied\")\n",
    "    \n",
    "print(\"Starting to copy positive test images\")\n",
    "for image in test_positive_images:\n",
    "    src = os.path.join(original_folder_path, image)\n",
    "    shutil.copy(src, positive_test_dir)\n",
    "print(\"Positive test images copied\")\n",
    "    \n",
    "end = time.time()\n",
    "\n",
    "print(\"Time taken to execute this code block \", round(end-start, 2))"
   ]
  },
  {
   "cell_type": "code",
   "execution_count": 20,
   "metadata": {},
   "outputs": [
    {
     "name": "stdout",
     "output_type": "stream",
     "text": [
      "Starting to copy negative training images\n",
      "Negative training images copied\n",
      "Starting to copy positive negative images\n",
      "Negative validation images copied\n",
      "Starting to copy negative test images\n",
      "Negative test images copied\n",
      "\n",
      "Time taken to execute this code block  1037.22 seconds\n"
     ]
    }
   ],
   "source": [
    "start = time.time()\n",
    "\n",
    "print(\"Starting to copy negative training images\")\n",
    "for image in training_negative_images:\n",
    "    src = os.path.join(original_folder_path, image)\n",
    "    shutil.copy(src, negative_train_dir)\n",
    "print(\"Negative training images copied\")\n",
    "\n",
    "\n",
    "print(\"Starting to copy positive negative images\")\n",
    "for image in validation_negative_images:\n",
    "    src = os.path.join(original_folder_path, image)\n",
    "    shutil.copy(src, negative_validation_dir)\n",
    "print(\"Negative validation images copied\")\n",
    "\n",
    "\n",
    "print(\"Starting to copy negative test images\")\n",
    "for image in test_negative_images:\n",
    "    src = os.path.join(original_folder_path, image)\n",
    "    shutil.copy(src, negative_test_dir)\n",
    "print(\"Negative test images copied\")\n",
    "    \n",
    "end = time.time()\n",
    "\n",
    "print(\"\")\n",
    "print(\"Time taken to execute this code block \", round(end-start, 2), \"seconds\")"
   ]
  },
  {
   "cell_type": "code",
   "execution_count": null,
   "metadata": {},
   "outputs": [],
   "source": []
  },
  {
   "cell_type": "code",
   "execution_count": null,
   "metadata": {},
   "outputs": [],
   "source": []
  },
  {
   "cell_type": "code",
   "execution_count": null,
   "metadata": {},
   "outputs": [],
   "source": []
  },
  {
   "cell_type": "code",
   "execution_count": null,
   "metadata": {},
   "outputs": [],
   "source": []
  },
  {
   "cell_type": "code",
   "execution_count": null,
   "metadata": {},
   "outputs": [],
   "source": []
  }
 ],
 "metadata": {
  "kernelspec": {
   "display_name": "Python 3",
   "language": "python",
   "name": "python3"
  },
  "language_info": {
   "codemirror_mode": {
    "name": "ipython",
    "version": 3
   },
   "file_extension": ".py",
   "mimetype": "text/x-python",
   "name": "python",
   "nbconvert_exporter": "python",
   "pygments_lexer": "ipython3",
   "version": "3.7.3"
  }
 },
 "nbformat": 4,
 "nbformat_minor": 2
}
